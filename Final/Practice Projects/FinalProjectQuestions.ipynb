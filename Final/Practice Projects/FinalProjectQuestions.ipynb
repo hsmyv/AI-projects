{
 "cells": [
  {
   "cell_type": "code",
   "execution_count": null,
   "id": "b22e3e9d",
   "metadata": {
    "lines_to_next_cell": 2
   },
   "outputs": [],
   "source": []
  },
  {
   "cell_type": "code",
   "execution_count": null,
   "id": "e467c057",
   "metadata": {
    "lines_to_next_cell": 2
   },
   "outputs": [],
   "source": [
    "import pandas as pd\n",
    "import matplotlib.pyplot as plt\n",
    "from sklearn.compose import ColumnTransformer\n",
    "from sklearn.pipeline import Pipeline\n",
    "from sklearn.preprocessing import StandardScaler, OneHotEncoder\n",
    "from sklearn.model_selection import train_test_split, GridSearchCV, StratifiedKFold\n",
    "from sklearn.ensemble import RandomForestClassifier\n",
    "from sklearn.linear_model import LogisticRegression\n",
    "from sklearn.metrics import classification_report, confusion_matrix, ConfusionMatrixDisplay\n",
    "import seaborn as sns"
   ]
  },
  {
   "cell_type": "code",
   "execution_count": null,
   "id": "f6f63c1e",
   "metadata": {},
   "outputs": [],
   "source": [
    "url=\"https://cf-courses-data.s3.us.cloud-object-storage.appdomain.cloud/_0eYOqji3unP1tDNKWZMjg/weatherAUS-2.csv\"\n",
    "df = pd.read_csv(url)\n",
    "df.head()"
   ]
  },
  {
   "cell_type": "code",
   "execution_count": null,
   "id": "5abc8388",
   "metadata": {
    "lines_to_next_cell": 2
   },
   "outputs": [],
   "source": [
    "df.count()"
   ]
  },
  {
   "cell_type": "code",
   "execution_count": null,
   "id": "19f72660",
   "metadata": {
    "lines_to_next_cell": 2
   },
   "outputs": [],
   "source": [
    "df = df.dropna()\n",
    "df.info()"
   ]
  },
  {
   "cell_type": "code",
   "execution_count": null,
   "id": "d6cb9c74",
   "metadata": {},
   "outputs": [],
   "source": [
    "df.columns"
   ]
  },
  {
   "cell_type": "code",
   "execution_count": null,
   "id": "14863b6a",
   "metadata": {},
   "outputs": [],
   "source": []
  },
  {
   "cell_type": "code",
   "execution_count": null,
   "id": "68ed9291",
   "metadata": {},
   "outputs": [],
   "source": [
    "df = df.rename(columns={'RainToday': 'RainYesterday',\n",
    "                        'RainTomorrow': 'RainToday'\n",
    "                        })"
   ]
  },
  {
   "cell_type": "code",
   "execution_count": null,
   "id": "32549618",
   "metadata": {
    "lines_to_next_cell": 1
   },
   "outputs": [],
   "source": [
    "df = df[df.Location.isin(['Melbourne','MelbourneAirport','Watsonia',])]\n",
    "df. info()"
   ]
  },
  {
   "cell_type": "code",
   "execution_count": null,
   "id": "b3ef9553",
   "metadata": {},
   "outputs": [],
   "source": [
    "def date_to_season(date):\n",
    "    month = date.month\n",
    "    if (month == 12) or (month == 1) or (month == 2):\n",
    "        return 'Summer'\n",
    "    elif (month == 3) or (month == 4) or (month == 5):\n",
    "        return 'Autumn'\n",
    "    elif (month == 6) or (month == 7) or (month == 8):\n",
    "        return 'Winter'\n",
    "    elif (month == 9) or (month == 10) or (month == 11):\n",
    "        return 'Spring'"
   ]
  },
  {
   "cell_type": "code",
   "execution_count": null,
   "id": "689d2d1c",
   "metadata": {
    "lines_to_next_cell": 2
   },
   "outputs": [],
   "source": []
  },
  {
   "cell_type": "code",
   "execution_count": null,
   "id": "6c7c2390",
   "metadata": {},
   "outputs": [],
   "source": [
    "#Excercise 1\n",
    "# Convert the 'Date' column to datetime format\n",
    "df['Date'] = pd.to_datetime(df['Date'])"
   ]
  },
  {
   "cell_type": "code",
   "execution_count": null,
   "id": "f6c10ab1",
   "metadata": {},
   "outputs": [],
   "source": [
    "# Apply the function to the 'Date' column\n",
    "df['Season'] = df['Date'].apply(date_to_season)"
   ]
  },
  {
   "cell_type": "code",
   "execution_count": null,
   "id": "cc86d541",
   "metadata": {},
   "outputs": [],
   "source": [
    "# Drop the 'Date' column\n",
    "df = df.drop(columns=['Date'])"
   ]
  },
  {
   "cell_type": "code",
   "execution_count": null,
   "id": "ba546869",
   "metadata": {
    "lines_to_next_cell": 2
   },
   "outputs": [],
   "source": []
  },
  {
   "cell_type": "code",
   "execution_count": null,
   "id": "ec2fc054",
   "metadata": {},
   "outputs": [],
   "source": [
    "#Exercise 2 \n",
    "X = df.drop(columns='RainTomorrow', axis=1)\n",
    "y = df['RainTomorrow']"
   ]
  },
  {
   "cell_type": "code",
   "execution_count": null,
   "id": "cc79a431",
   "metadata": {
    "lines_to_next_cell": 2
   },
   "outputs": [],
   "source": []
  },
  {
   "cell_type": "markdown",
   "id": "637328e3",
   "metadata": {},
   "source": [
    "Exerceise 3"
   ]
  },
  {
   "cell_type": "code",
   "execution_count": null,
   "id": "5002bf3e",
   "metadata": {},
   "outputs": [],
   "source": [
    "y.value_counts()"
   ]
  },
  {
   "cell_type": "code",
   "execution_count": null,
   "id": "98f0a52d",
   "metadata": {
    "lines_to_next_cell": 2
   },
   "outputs": [],
   "source": []
  },
  {
   "cell_type": "markdown",
   "id": "a0f43df6",
   "metadata": {},
   "source": [
    "Exercise 4\n",
    "How often does it rain annually in the Melbourne area?"
   ]
  },
  {
   "cell_type": "markdown",
   "id": "74ddf613",
   "metadata": {},
   "source": [
    "Based on the counts, it rains on approximately X% of days in a year (e.g., if rain occurs on 30% of days, that means about 110 days per year on average).\n",
    "(Replace X% with your actual count from the dataset.)"
   ]
  },
  {
   "cell_type": "markdown",
   "id": "d03c86c4",
   "metadata": {},
   "source": [
    "How accurate would you be if you just assumed it won't rain every day?"
   ]
  },
  {
   "cell_type": "markdown",
   "id": "fe124b06",
   "metadata": {},
   "source": [
    "If you always predicted “no rain”, your accuracy would be roughly equal to the percentage of days with no rain (e.g., around 70% accuracy if 70% of days are dry)."
   ]
  },
  {
   "cell_type": "markdown",
   "id": "b9318f51",
   "metadata": {},
   "source": [
    "This baseline accuracy shows that a naive model can be fairly accurate just by predicting the majority class."
   ]
  },
  {
   "cell_type": "markdown",
   "id": "9d1d63d4",
   "metadata": {},
   "source": [
    "Is this a balanced dataset?"
   ]
  },
  {
   "cell_type": "markdown",
   "id": "3e104b63",
   "metadata": {},
   "source": [
    "No, this dataset is imbalanced because the number of no-rain days significantly exceeds the number of rain days."
   ]
  },
  {
   "cell_type": "markdown",
   "id": "4ad83c28",
   "metadata": {},
   "source": [
    "Imbalanced datasets can make model training challenging as models might be biased toward the majority class."
   ]
  },
  {
   "cell_type": "markdown",
   "id": "b2ec3d0a",
   "metadata": {},
   "source": [
    "Next steps?"
   ]
  },
  {
   "cell_type": "markdown",
   "id": "1266441b",
   "metadata": {},
   "source": [
    "Use techniques to address imbalance, such as:"
   ]
  },
  {
   "cell_type": "markdown",
   "id": "1df22c36",
   "metadata": {},
   "source": [
    "Stratified splitting (to keep class distribution in train/test sets)"
   ]
  },
  {
   "cell_type": "markdown",
   "id": "13467773",
   "metadata": {},
   "source": [
    "Resampling methods (oversampling minority class or undersampling majority class)"
   ]
  },
  {
   "cell_type": "markdown",
   "id": "8bb28301",
   "metadata": {},
   "source": [
    "Use evaluation metrics beyond accuracy (e.g., precision, recall, F1-score)"
   ]
  },
  {
   "cell_type": "markdown",
   "id": "ca93c517",
   "metadata": {},
   "source": [
    "Experiment with models that handle imbalance better, like Random Forest or ensemble methods"
   ]
  },
  {
   "cell_type": "markdown",
   "id": "c2350d38",
   "metadata": {},
   "source": [
    "Feature engineering to improve model’s ability to distinguish rain vs no-rain days."
   ]
  },
  {
   "cell_type": "code",
   "execution_count": null,
   "id": "9c5639d4",
   "metadata": {
    "lines_to_next_cell": 2
   },
   "outputs": [],
   "source": []
  },
  {
   "cell_type": "code",
   "execution_count": null,
   "id": "755d4690",
   "metadata": {},
   "outputs": [],
   "source": [
    "# Exercise 5\n",
    "X_train, X_test, y_train, y_test = train_test_split(\n",
    "    X, y, test_size=0.2, stratify=y, random_state=42\n",
    ")"
   ]
  },
  {
   "cell_type": "code",
   "execution_count": null,
   "id": "52311fa4",
   "metadata": {
    "lines_to_next_cell": 2
   },
   "outputs": [],
   "source": []
  },
  {
   "cell_type": "code",
   "execution_count": null,
   "id": "d1d4d065",
   "metadata": {},
   "outputs": [],
   "source": [
    "# Exercise 6\n",
    "numeric_features = X_train.select_dtypes(include=['int64', 'float64']).columns.tolist()\n",
    "categorical_features = X_train.select_dtypes(include=['object', 'category']).columns.tolist()"
   ]
  },
  {
   "cell_type": "code",
   "execution_count": null,
   "id": "1d335266",
   "metadata": {},
   "outputs": [],
   "source": []
  },
  {
   "cell_type": "code",
   "execution_count": null,
   "id": "2bd8bc3e",
   "metadata": {},
   "outputs": [],
   "source": [
    "#Exercise 7\n",
    "# Scale the numeric features\n",
    "numeric_transformer = Pipeline(steps=[('scaler', StandardScaler())])"
   ]
  },
  {
   "cell_type": "code",
   "execution_count": null,
   "id": "358acbe1",
   "metadata": {},
   "outputs": [],
   "source": [
    "# One-hot encode the categoricals \n",
    "categorical_transformer = Pipeline(steps=[('onehot', OneHotEncoder(handle_unknown='ignore'))])\n",
    "preprocessor = ColumnTransformer(\n",
    "    transformers=[\n",
    "        ('num', numeric_transformer, numeric_features),\n",
    "        ('cat', categorical_transformer, categorical_features)\n",
    "    ]\n",
    ")"
   ]
  },
  {
   "cell_type": "code",
   "execution_count": null,
   "id": "11052f3c",
   "metadata": {},
   "outputs": [],
   "source": []
  },
  {
   "cell_type": "code",
   "execution_count": null,
   "id": "44dc0a2a",
   "metadata": {},
   "outputs": [],
   "source": [
    "# Exercise 8\n",
    "pipeline = Pipeline(steps=[\n",
    "    ('preprocessor', preprocessor),\n",
    "    ('classifier', RandomForestClassifier(random_state=42))\n",
    "])"
   ]
  },
  {
   "cell_type": "code",
   "execution_count": null,
   "id": "b8f7602f",
   "metadata": {},
   "outputs": [],
   "source": []
  },
  {
   "cell_type": "code",
   "execution_count": null,
   "id": "0936b8e8",
   "metadata": {},
   "outputs": [],
   "source": [
    "#Exercise 9\n",
    "param_grid = {\n",
    "    'classifier__n_estimators': [50, 100],\n",
    "    'classifier__max_depth': [None, 10, 20],\n",
    "    'classifier__min_samples_split': [2, 5]\n",
    "}"
   ]
  },
  {
   "cell_type": "code",
   "execution_count": null,
   "id": "58dc551c",
   "metadata": {},
   "outputs": [],
   "source": [
    "cv = StratifiedKFold(n_splits=5, shuffle=True, random_state=42)"
   ]
  },
  {
   "cell_type": "code",
   "execution_count": null,
   "id": "edf40301",
   "metadata": {},
   "outputs": [],
   "source": [
    "grid_search = GridSearchCV(\n",
    "    estimator=pipeline,\n",
    "    param_grid=param_grid,\n",
    "    cv=cv,\n",
    "    scoring='accuracy',\n",
    "    verbose=2\n",
    ")"
   ]
  },
  {
   "cell_type": "code",
   "execution_count": null,
   "id": "67aefd0e",
   "metadata": {},
   "outputs": [],
   "source": [
    "grid_search.fit(X_train, y_train)"
   ]
  },
  {
   "cell_type": "code",
   "execution_count": null,
   "id": "7858cb31",
   "metadata": {},
   "outputs": [],
   "source": [
    "print(\"\\nBest parameters found: \", grid_search.best_params_)\n",
    "print(\"Best cross-validation score: {:.2f}\".format(grid_search.best_score_))"
   ]
  },
  {
   "cell_type": "code",
   "execution_count": null,
   "id": "cac1a45c",
   "metadata": {},
   "outputs": [],
   "source": []
  },
  {
   "cell_type": "code",
   "execution_count": null,
   "id": "40aaf808",
   "metadata": {},
   "outputs": [],
   "source": []
  },
  {
   "cell_type": "code",
   "execution_count": null,
   "id": "201d2dd6",
   "metadata": {},
   "outputs": [],
   "source": [
    "# Exercise 10\n",
    "test_score = grid_search.score(X_test, y_test)\n",
    "print(\"Test set score: {:.2f}\".format(test_score))"
   ]
  },
  {
   "cell_type": "code",
   "execution_count": null,
   "id": "8259d13f",
   "metadata": {
    "lines_to_next_cell": 2
   },
   "outputs": [],
   "source": []
  },
  {
   "cell_type": "code",
   "execution_count": null,
   "id": "753ff25e",
   "metadata": {},
   "outputs": [],
   "source": [
    "#Exercise 11\n",
    "y_pred = grid_search.predict(X_test)"
   ]
  },
  {
   "cell_type": "code",
   "execution_count": null,
   "id": "ae9f9fb1",
   "metadata": {},
   "outputs": [],
   "source": []
  },
  {
   "cell_type": "markdown",
   "id": "3a946c95",
   "metadata": {},
   "source": [
    "Exercise 12"
   ]
  },
  {
   "cell_type": "code",
   "execution_count": null,
   "id": "1cc8c2fa",
   "metadata": {},
   "outputs": [],
   "source": [
    "print(\"\\nClassification Report:\")\n",
    "print(classification_report(y_test, y_pred))"
   ]
  },
  {
   "cell_type": "code",
   "execution_count": null,
   "id": "9672c208",
   "metadata": {},
   "outputs": [],
   "source": []
  },
  {
   "cell_type": "code",
   "execution_count": null,
   "id": "a1b7189a",
   "metadata": {
    "lines_to_next_cell": 2
   },
   "outputs": [],
   "source": [
    "#Exercise 13\n",
    "conf_matrix = confusion_matrix(y_test, y_pred)\n",
    "disp = ConfusionMatrixDisplay(confusion_matrix=conf_matrix)\n",
    "disp.plot(cmap='Blues')\n",
    "plt.title('Confusion Matrix')\n",
    "plt.show()"
   ]
  },
  {
   "cell_type": "code",
   "execution_count": null,
   "id": "bb69def1",
   "metadata": {},
   "outputs": [],
   "source": [
    "# Exercise 14\n",
    "feature_importances = grid_search.best_estimator_['classifier'].feature_importances_\n",
    " \n",
    "\n",
    "\n",
    "\n",
    "\n",
    "\n",
    " #Exercise 15"
   ]
  },
  {
   "cell_type": "code",
   "execution_count": null,
   "id": "48940dac",
   "metadata": {},
   "outputs": [],
   "source": [
    "# Replace RandomForestClassifier with LogisticRegression in the pipeline\n",
    "pipeline.set_params(classifier=LogisticRegression(random_state=42))"
   ]
  },
  {
   "cell_type": "code",
   "execution_count": null,
   "id": "a2bfca2c",
   "metadata": {},
   "outputs": [],
   "source": [
    "# Update the estimator in grid_search to the new pipeline\n",
    "grid_search.estimator = pipeline"
   ]
  },
  {
   "cell_type": "code",
   "execution_count": null,
   "id": "7de719f4",
   "metadata": {},
   "outputs": [],
   "source": [
    "# Define the new param grid for LogisticRegression\n",
    "param_grid = {\n",
    "    'classifier__solver': ['liblinear'],\n",
    "    'classifier__penalty': ['l1', 'l2'],\n",
    "    'classifier__class_weight': [None, 'balanced']\n",
    "}"
   ]
  },
  {
   "cell_type": "code",
   "execution_count": null,
   "id": "413f9a83",
   "metadata": {},
   "outputs": [],
   "source": [
    "grid_search.param_grid = param_grid"
   ]
  },
  {
   "cell_type": "code",
   "execution_count": null,
   "id": "6e83ec4e",
   "metadata": {},
   "outputs": [],
   "source": [
    "# Fit the updated grid_search with LogisticRegression\n",
    "grid_search.fit(X_train, y_train)"
   ]
  },
  {
   "cell_type": "code",
   "execution_count": null,
   "id": "e3f304f0",
   "metadata": {},
   "outputs": [],
   "source": [
    "# Make predictions on test set\n",
    "y_pred = grid_search.predict(X_test)"
   ]
  }
 ],
 "metadata": {
  "jupytext": {
   "cell_metadata_filter": "-all",
   "main_language": "python",
   "notebook_metadata_filter": "-all"
  }
 },
 "nbformat": 4,
 "nbformat_minor": 5
}
